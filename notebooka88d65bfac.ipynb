{
 "cells": [
  {
   "cell_type": "code",
   "execution_count": 1,
   "id": "0c04b0bd",
   "metadata": {
    "_cell_guid": "b1076dfc-b9ad-4769-8c92-a6c4dae69d19",
    "_uuid": "8f2839f25d086af736a60e9eeb907d3b93b6e0e5",
    "execution": {
     "iopub.execute_input": "2024-11-21T04:15:28.341587Z",
     "iopub.status.busy": "2024-11-21T04:15:28.340742Z",
     "iopub.status.idle": "2024-11-21T04:15:30.890250Z",
     "shell.execute_reply": "2024-11-21T04:15:30.889193Z"
    },
    "papermill": {
     "duration": 2.554991,
     "end_time": "2024-11-21T04:15:30.891997",
     "exception": false,
     "start_time": "2024-11-21T04:15:28.337006",
     "status": "completed"
    },
    "tags": []
   },
   "outputs": [
    {
     "name": "stdout",
     "output_type": "stream",
     "text": [
      "8d969eef6ecad3c29a3a629280e686cf0c3f5d5a86aff3ca12020c923adc6c92\n"
     ]
    }
   ],
   "source": [
    "import numpy as np\n",
    "\n",
    "# Read the file and split each line into words\n",
    "lines = [line.split() for line in open('/kaggle/input/dataset1/hashed_passwords.txt')]\n",
    "\n",
    "# Join words in each line into a single string and filter out empty lines\n",
    "joined_lines = [' '.join(line) for line in lines if line]\n",
    "\n",
    "# Convert to numpy array (or keep as a list if preferred)\n",
    "lines_array = np.array(joined_lines)\n",
    "lines_array = list(map(str, lines_array))\n",
    "\n",
    "print(lines_array[0])\n",
    "\n",
    "# Print the result (it will be a 1D array of strings)"
   ]
  },
  {
   "cell_type": "code",
   "execution_count": 2,
   "id": "1cc6515b",
   "metadata": {
    "execution": {
     "iopub.execute_input": "2024-11-21T04:15:30.896902Z",
     "iopub.status.busy": "2024-11-21T04:15:30.896654Z",
     "iopub.status.idle": "2024-11-21T04:15:32.784306Z",
     "shell.execute_reply": "2024-11-21T04:15:32.783357Z"
    },
    "papermill": {
     "duration": 1.891782,
     "end_time": "2024-11-21T04:15:32.785983",
     "exception": false,
     "start_time": "2024-11-21T04:15:30.894201",
     "status": "completed"
    },
    "tags": []
   },
   "outputs": [
    {
     "name": "stdout",
     "output_type": "stream",
     "text": [
      "['123456', 'password', '12345678', 'qwerty', '123456789']\n"
     ]
    }
   ],
   "source": [
    "\n",
    "# Read the file and split each line into words\n",
    "linesl = [linel.split() for linel in open('/kaggle/input/dataset1/10-million-password-list-top-1000000.txt')]\n",
    "\n",
    "# Join words in each line into a single string and filter out empty lines\n",
    "joined_linesl = [' '.join(linel) for linel in linesl if linel]\n",
    "\n",
    "# Convert to numpy array (or keep as a list if preferred)\n",
    "lines_arrayl = np.array(joined_linesl)\n",
    "lines_arrayl = list(map(str, lines_arrayl))\n",
    "print(lines_arrayl[:5])\n"
   ]
  },
  {
   "cell_type": "code",
   "execution_count": 3,
   "id": "3e7ec2b5",
   "metadata": {
    "execution": {
     "iopub.execute_input": "2024-11-21T04:15:32.791082Z",
     "iopub.status.busy": "2024-11-21T04:15:32.790559Z",
     "iopub.status.idle": "2024-11-21T11:08:59.435467Z",
     "shell.execute_reply": "2024-11-21T11:08:59.434500Z"
    },
    "papermill": {
     "duration": 24808.732136,
     "end_time": "2024-11-21T11:09:01.520076",
     "exception": false,
     "start_time": "2024-11-21T04:15:32.787940",
     "status": "completed"
    },
    "tags": []
   },
   "outputs": [
    {
     "name": "stderr",
     "output_type": "stream",
     "text": [
      "/opt/conda/lib/python3.10/site-packages/keras/src/layers/core/embedding.py:90: UserWarning: Argument `input_length` is deprecated. Just remove it.\n",
      "  warnings.warn(\n"
     ]
    },
    {
     "name": "stdout",
     "output_type": "stream",
     "text": [
      "Epoch 1/8\n"
     ]
    },
    {
     "name": "stderr",
     "output_type": "stream",
     "text": [
      "/opt/conda/lib/python3.10/site-packages/tensorflow/python/framework/indexed_slices.py:446: UserWarning: Converting sparse IndexedSlices to a dense Tensor with 100729600 elements. This may consume a large amount of memory.\n",
      "  warnings.warn(\n"
     ]
    },
    {
     "name": "stdout",
     "output_type": "stream",
     "text": [
      "\u001b[1m5000/5000\u001b[0m \u001b[32m━━━━━━━━━━━━━━━━━━━━\u001b[0m\u001b[37m\u001b[0m \u001b[1m3101s\u001b[0m 619ms/step - accuracy: 0.9972 - loss: 2.1715\n",
      "Epoch 2/8\n",
      "\u001b[1m5000/5000\u001b[0m \u001b[32m━━━━━━━━━━━━━━━━━━━━\u001b[0m\u001b[37m\u001b[0m \u001b[1m3095s\u001b[0m 619ms/step - accuracy: 0.9991 - loss: 0.0148\n",
      "Epoch 3/8\n",
      "\u001b[1m5000/5000\u001b[0m \u001b[32m━━━━━━━━━━━━━━━━━━━━\u001b[0m\u001b[37m\u001b[0m \u001b[1m3095s\u001b[0m 619ms/step - accuracy: 0.9992 - loss: 0.0120\n",
      "Epoch 4/8\n",
      "\u001b[1m5000/5000\u001b[0m \u001b[32m━━━━━━━━━━━━━━━━━━━━\u001b[0m\u001b[37m\u001b[0m \u001b[1m3094s\u001b[0m 619ms/step - accuracy: 0.9991 - loss: 0.0115\n",
      "Epoch 5/8\n",
      "\u001b[1m5000/5000\u001b[0m \u001b[32m━━━━━━━━━━━━━━━━━━━━\u001b[0m\u001b[37m\u001b[0m \u001b[1m3095s\u001b[0m 619ms/step - accuracy: 0.9991 - loss: 0.0101\n",
      "Epoch 6/8\n",
      "\u001b[1m5000/5000\u001b[0m \u001b[32m━━━━━━━━━━━━━━━━━━━━\u001b[0m\u001b[37m\u001b[0m \u001b[1m3095s\u001b[0m 619ms/step - accuracy: 0.9990 - loss: 0.0101\n",
      "Epoch 7/8\n",
      "\u001b[1m5000/5000\u001b[0m \u001b[32m━━━━━━━━━━━━━━━━━━━━\u001b[0m\u001b[37m\u001b[0m \u001b[1m3095s\u001b[0m 619ms/step - accuracy: 0.9991 - loss: 0.0081\n",
      "Epoch 8/8\n",
      "\u001b[1m5000/5000\u001b[0m \u001b[32m━━━━━━━━━━━━━━━━━━━━\u001b[0m\u001b[37m\u001b[0m \u001b[1m3095s\u001b[0m 619ms/step - accuracy: 0.9990 - loss: 0.0084\n"
     ]
    },
    {
     "data": {
      "text/plain": [
       "<keras.src.callbacks.history.History at 0x7e7e0538b430>"
      ]
     },
     "execution_count": 3,
     "metadata": {},
     "output_type": "execute_result"
    }
   ],
   "source": [
    "import tensorflow as tf\n",
    "from tensorflow.keras import layers, models\n",
    "from sklearn.model_selection import train_test_split\n",
    "from tensorflow.keras.preprocessing.text import Tokenizer\n",
    "from tensorflow.keras.preprocessing.sequence import pad_sequences\n",
    "import numpy as np\n",
    "\n",
    "# Sample data (replace with your custom data)\n",
    "\n",
    "\n",
    "# Split the data into training and testing sets\n",
    "questions_train, questions_test, answers_train, answers_test = train_test_split(lines_array, lines_arrayl, test_size=0.2, random_state=42)\n",
    "\n",
    "# Tokenization\n",
    "tokenizer = Tokenizer()\n",
    "tokenizer.fit_on_texts(questions_train + answers_train)\n",
    "\n",
    "# Convert texts to sequences\n",
    "train_questions_seq = tokenizer.texts_to_sequences(questions_train)\n",
    "train_answers_seq = tokenizer.texts_to_sequences(answers_train)\n",
    "\n",
    "# Pad sequences to ensure uniform input size\n",
    "max_length = max(len(seq) for seq in train_questions_seq + train_answers_seq)\n",
    "train_questions_padded = pad_sequences(train_questions_seq, maxlen=max_length, padding='post')\n",
    "train_answers_padded = pad_sequences(train_answers_seq, maxlen=max_length, padding='post')\n",
    "\n",
    "# Prepare target data by shifting answers\n",
    "train_answers_padded_shifted = np.zeros_like(train_answers_padded)\n",
    "train_answers_padded_shifted[:, :-1] = train_answers_padded[:, 1:]\n",
    "\n",
    "# Define the model with reduced complexity\n",
    "model = models.Sequential()\n",
    "model.add(layers.Embedding(input_dim=len(tokenizer.word_index) + 1, output_dim=64, input_length=max_length))\n",
    "model.add(layers.LSTM(32, return_sequences=True))  # Reduced number of LSTM units\n",
    "model.add(layers.Dense(len(tokenizer.word_index) + 1, activation='softmax'))\n",
    "\n",
    "# Compile the model\n",
    "model.compile(loss='sparse_categorical_crossentropy', optimizer='adam', metrics=['accuracy'])\n",
    "\n",
    "# Train the model with reduced batch size\n",
    "# Assuming train_questions_padded and train_answers_padded_shifted are numpy arrays\n",
    "sample_size = int(0.1 * len(train_questions_padded))  # 10% of the dataset\n",
    "indices = np.random.choice(len(train_questions_padded), sample_size, replace=False)\n",
    "train_questions_padded = train_questions_padded[indices]\n",
    "train_answers_padded_shifted = train_answers_padded_shifted[indices]\n",
    "\n",
    "model.fit(train_questions_padded, np.expand_dims(train_answers_padded_shifted, -1), epochs=8, batch_size=16)\n",
    "\n"
   ]
  },
  {
   "cell_type": "code",
   "execution_count": 4,
   "id": "76441445",
   "metadata": {
    "execution": {
     "iopub.execute_input": "2024-11-21T11:09:05.713946Z",
     "iopub.status.busy": "2024-11-21T11:09:05.713085Z",
     "iopub.status.idle": "2024-11-21T11:09:05.989841Z",
     "shell.execute_reply": "2024-11-21T11:09:05.988913Z"
    },
    "papermill": {
     "duration": 2.390759,
     "end_time": "2024-11-21T11:09:05.991648",
     "exception": false,
     "start_time": "2024-11-21T11:09:03.600889",
     "status": "completed"
    },
    "tags": []
   },
   "outputs": [
    {
     "name": "stdout",
     "output_type": "stream",
     "text": [
      "\u001b[1m1/1\u001b[0m \u001b[32m━━━━━━━━━━━━━━━━━━━━\u001b[0m\u001b[37m\u001b[0m \u001b[1m0s\u001b[0m 130ms/step\n",
      "Question: ef797c8118f02dfb649607dd5d3f8c7623048c9c063d532cc95c5ed7a898a64f\n",
      "Predicted Answer: 1\n"
     ]
    }
   ],
   "source": [
    "# Function to test the model with new input data\n",
    "def test_model(input_question):\n",
    "    # Convert the input question to sequence and pad it\n",
    "    input_seq = tokenizer.texts_to_sequences([input_question])\n",
    "    input_padded = pad_sequences(input_seq, maxlen=max_length, padding='post')\n",
    "\n",
    "    # Make a prediction\n",
    "    prediction = model.predict(input_padded)\n",
    "\n",
    "    # Get the predicted word indices and convert them back to words\n",
    "    predicted_indices = np.argmax(prediction[0], axis=-1)\n",
    "    predicted_words = [tokenizer.index_word[idx] for idx in predicted_indices if idx > 0]  # Filter out padding\n",
    "\n",
    "    return ' '.join(predicted_words)\n",
    "\n",
    "# Test the model with a new question\n",
    "new_question = \"ef797c8118f02dfb649607dd5d3f8c7623048c9c063d532cc95c5ed7a898a64f\"\n",
    "predicted_answer = test_model(new_question)\n",
    "print(f\"Question: {new_question}\\nPredicted Answer: {predicted_answer}\")"
   ]
  },
  {
   "cell_type": "code",
   "execution_count": 5,
   "id": "8a6a53d7",
   "metadata": {
    "execution": {
     "iopub.execute_input": "2024-11-21T11:09:10.125000Z",
     "iopub.status.busy": "2024-11-21T11:09:10.124234Z",
     "iopub.status.idle": "2024-11-21T11:09:13.996848Z",
     "shell.execute_reply": "2024-11-21T11:09:13.996095Z"
    },
    "papermill": {
     "duration": 5.958782,
     "end_time": "2024-11-21T11:09:13.998813",
     "exception": false,
     "start_time": "2024-11-21T11:09:08.040031",
     "status": "completed"
    },
    "tags": []
   },
   "outputs": [],
   "source": [
    "model.save('/kaggle/working/trained.h5')\n"
   ]
  }
 ],
 "metadata": {
  "kaggle": {
   "accelerator": "nvidiaTeslaT4",
   "dataSources": [
    {
     "datasetId": 6125777,
     "sourceId": 9959498,
     "sourceType": "datasetVersion"
    }
   ],
   "dockerImageVersionId": 30787,
   "isGpuEnabled": true,
   "isInternetEnabled": false,
   "language": "python",
   "sourceType": "notebook"
  },
  "kernelspec": {
   "display_name": "Python 3",
   "language": "python",
   "name": "python3"
  },
  "language_info": {
   "codemirror_mode": {
    "name": "ipython",
    "version": 3
   },
   "file_extension": ".py",
   "mimetype": "text/x-python",
   "name": "python",
   "nbconvert_exporter": "python",
   "pygments_lexer": "ipython3",
   "version": "3.10.14"
  },
  "papermill": {
   "default_parameters": {},
   "duration": 24833.771863,
   "end_time": "2024-11-21T11:09:19.732422",
   "environment_variables": {},
   "exception": null,
   "input_path": "__notebook__.ipynb",
   "output_path": "__notebook__.ipynb",
   "parameters": {},
   "start_time": "2024-11-21T04:15:25.960559",
   "version": "2.6.0"
  }
 },
 "nbformat": 4,
 "nbformat_minor": 5
}
